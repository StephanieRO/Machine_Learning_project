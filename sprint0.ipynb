{
 "cells": [
  {
   "cell_type": "markdown",
   "id": "1337b8fa-e0f7-4fa4-b1c0-9979754e87e4",
   "metadata": {},
   "source": [
    "# Calculos sencillos"
   ]
  },
  {
   "cell_type": "code",
   "execution_count": 1,
   "id": "d3212cd1-16f0-4605-9a92-b1e172a33671",
   "metadata": {},
   "outputs": [
    {
     "data": {
      "text/plain": [
       "2"
      ]
     },
     "execution_count": 1,
     "metadata": {},
     "output_type": "execute_result"
    }
   ],
   "source": [
    "1+1"
   ]
  },
  {
   "cell_type": "markdown",
   "id": "ec0e3f62-bad1-4870-b849-0bd9e0dd1054",
   "metadata": {},
   "source": [
    "### Prueba a crear títulos\n"
   ]
  },
  {
   "cell_type": "markdown",
   "id": "afbc444c-c96f-428f-927f-24bb250bf0db",
   "metadata": {},
   "source": [
    "### Listas "
   ]
  },
  {
   "cell_type": "code",
   "execution_count": 8,
   "id": "95a378ca-96fb-420a-bb20-688fd28640f3",
   "metadata": {},
   "outputs": [],
   "source": [
    "frutas = [\"manzanas\", \"peras\", \"platano\", \"mandarina\"]"
   ]
  },
  {
   "cell_type": "markdown",
   "id": "711fe7a3-1308-46b8-bea0-a4375793c3e0",
   "metadata": {},
   "source": [
    "[ ]A\n",
    "[ ]B\n",
    "[ ]C"
   ]
  },
  {
   "cell_type": "markdown",
   "id": "f0aa2a5b-c1fa-497f-adc1-e190a79dc0dc",
   "metadata": {},
   "source": [
    "*cambiar el estilo de la letra*"
   ]
  },
  {
   "cell_type": "markdown",
   "id": "9b801db5-c79f-4aec-af67-39ce58e0d2a0",
   "metadata": {},
   "source": [
    "añadir **imágenes** dentro del Notebook."
   ]
  },
  {
   "cell_type": "markdown",
   "id": "1ee1770f-501e-493f-ad7b-47609994ba2f",
   "metadata": {},
   "source": [
    "![Esta es una imagen de ejemplo](https://geekytheory.com/content/images/size/w2000/2014/03/markdown.png)"
   ]
  },
  {
   "cell_type": "code",
   "execution_count": null,
   "id": "2fc18af7-7822-42e2-8623-66a6ff332558",
   "metadata": {},
   "outputs": [],
   "source": []
  }
 ],
 "metadata": {
  "kernelspec": {
   "display_name": "Python 3 (ipykernel)",
   "language": "python",
   "name": "python3"
  },
  "language_info": {
   "codemirror_mode": {
    "name": "ipython",
    "version": 3
   },
   "file_extension": ".py",
   "mimetype": "text/x-python",
   "name": "python",
   "nbconvert_exporter": "python",
   "pygments_lexer": "ipython3",
   "version": "3.12.7"
  }
 },
 "nbformat": 4,
 "nbformat_minor": 5
}
