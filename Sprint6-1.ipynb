{
 "cells": [
  {
   "cell_type": "markdown",
   "id": "1e322607-0a38-4f00-b8f8-f0a785f92911",
   "metadata": {},
   "source": [
    "## Preparación de datos"
   ]
  },
  {
   "cell_type": "markdown",
   "id": "a6795340-35a6-4c25-b3b3-535261209d67",
   "metadata": {},
   "source": [
    "#### Objetivos del Proyecto\n",
    "* Identificar grupos homogéneos de clientes mediante la segmentación para personalizar campañas de marketing que ayude a aumentar la tasa de conversión y optimizar el retorno sobre la inversión, además reducir costos al enfocar los esfuerzos en segmentos con mayor probabilidad de respuesta.\n",
    "\n",
    "* Se desea mejorar la identificación de segmentos de clientes basados en características demográficas y financieras, automatizando la asignación de los clientes a grupos específicos para diseñar estrategias de marketing personalizadas, así como facilitar el análisis masivo de datos, haciendo el proceso más rápido y eficiente."
   ]
  },
  {
   "cell_type": "code",
   "execution_count": 1,
   "id": "83465e6a-0410-46fb-b72b-4ad83bda63f4",
   "metadata": {},
   "outputs": [
    {
     "name": "stderr",
     "output_type": "stream",
     "text": [
      "/var/folders/4f/ts7gk_kd60q4j4k_6hmrs9_r0000gp/T/ipykernel_52170/1160900076.py:1: DeprecationWarning: \n",
      "Pyarrow will become a required dependency of pandas in the next major release of pandas (pandas 3.0),\n",
      "(to allow more performant data types, such as the Arrow string type, and better interoperability with other libraries)\n",
      "but was not found to be installed on your system.\n",
      "If this would cause problems for you,\n",
      "please provide us feedback at https://github.com/pandas-dev/pandas/issues/54466\n",
      "        \n",
      "  import pandas as pd\n"
     ]
    }
   ],
   "source": [
    "import pandas as pd\n",
    "from sklearn.preprocessing import OneHotEncoder"
   ]
  },
  {
   "cell_type": "code",
   "execution_count": 2,
   "id": "f3a7cb6e-856d-49a2-bba3-1adaba5667b1",
   "metadata": {},
   "outputs": [],
   "source": [
    "clean_datos = pd.read_csv('bank_dataset_clean.csv')"
   ]
  },
  {
   "cell_type": "code",
   "execution_count": 3,
   "id": "326ff679-2b70-4c3f-bb6f-10e195c83e02",
   "metadata": {},
   "outputs": [
    {
     "name": "stdout",
     "output_type": "stream",
     "text": [
      "<class 'pandas.core.frame.DataFrame'>\n",
      "RangeIndex: 11162 entries, 0 to 11161\n",
      "Data columns (total 9 columns):\n",
      " #   Column     Non-Null Count  Dtype  \n",
      "---  ------     --------------  -----  \n",
      " 0   job        11162 non-null  object \n",
      " 1   marital    11162 non-null  object \n",
      " 2   education  11162 non-null  object \n",
      " 3   default    11162 non-null  object \n",
      " 4   balance    11162 non-null  float64\n",
      " 5   housing    11162 non-null  object \n",
      " 6   loan       11162 non-null  object \n",
      " 7   month      11162 non-null  object \n",
      " 8   deposit    11162 non-null  object \n",
      "dtypes: float64(1), object(8)\n",
      "memory usage: 785.0+ KB\n"
     ]
    }
   ],
   "source": [
    "clean_datos.info()"
   ]
  },
  {
   "cell_type": "markdown",
   "id": "c9d41689-1bd5-4ff0-80d7-e1225db52bbf",
   "metadata": {},
   "source": [
    "### Codificacion de las variables con yes/no\n",
    "\n",
    "en esta parte he decidido codificar todas las variables que contengan como valor yes/no (deposit, default,housing,loan)"
   ]
  },
  {
   "cell_type": "code",
   "execution_count": 4,
   "id": "2694cd04-ac2c-4ab3-ae99-b07e27ae646e",
   "metadata": {},
   "outputs": [
    {
     "name": "stdout",
     "output_type": "stream",
     "text": [
      "      deposit  deposit_encoded\n",
      "11157      no                0\n",
      "11158      no                0\n",
      "11159      no                0\n",
      "11160      no                0\n",
      "11161      no                0\n",
      "deposit            yes\n",
      "deposit_encoded      1\n",
      "Name: 100, dtype: object\n",
      "deposit            no\n",
      "deposit_encoded     0\n",
      "Name: 11160, dtype: object\n"
     ]
    }
   ],
   "source": [
    "# Codificación de la variable objetivo\n",
    "clean_datos['deposit_encoded'] = clean_datos['deposit'].map({'yes': 1, 'no': 0})\n",
    "\n",
    "# Verificar los cambios\n",
    "print(clean_datos[['deposit', 'deposit_encoded']].tail())\n",
    "\n",
    "# Imprimir el valor en la fila 0 de la columna 'deposit'\n",
    "print(clean_datos.loc[100, ['deposit', 'deposit_encoded']])\n",
    "print(clean_datos.loc[11160, ['deposit', 'deposit_encoded']])"
   ]
  },
  {
   "cell_type": "code",
   "execution_count": 5,
   "id": "4134ab4f-b2d1-4eb7-b633-2be433ec434f",
   "metadata": {
    "scrolled": true
   },
   "outputs": [
    {
     "name": "stdout",
     "output_type": "stream",
     "text": [
      "          job  marital  education default  balance housing loan month deposit  \\\n",
      "0      admin.  married  secondary      no   2343.0     yes   no   may     yes   \n",
      "1      admin.  married  secondary      no     45.0      no   no   may     yes   \n",
      "2  technician  married  secondary      no   1270.0     yes   no   may     yes   \n",
      "3    services  married  secondary      no   2476.0     yes   no   may     yes   \n",
      "4      admin.  married   tertiary      no    184.0      no   no   may     yes   \n",
      "\n",
      "   deposit_encoded  \n",
      "0                1  \n",
      "1                1  \n",
      "2                1  \n",
      "3                1  \n",
      "4                1  \n"
     ]
    }
   ],
   "source": [
    "print(clean_datos.head())"
   ]
  },
  {
   "cell_type": "code",
   "execution_count": 6,
   "id": "7bbff021-8328-42fd-acaa-9cc90c8bb207",
   "metadata": {},
   "outputs": [
    {
     "name": "stdout",
     "output_type": "stream",
     "text": [
      "default            no\n",
      "default_encoded     0\n",
      "Name: 100, dtype: object\n",
      "default            no\n",
      "default_encoded     0\n",
      "Name: 1160, dtype: object\n"
     ]
    }
   ],
   "source": [
    "# Obtener la posición de la columna 'default'\n",
    "col_index = clean_datos.columns.get_loc('default')\n",
    "\n",
    "# Reordenar las columnas para insertar 'default_encoded' después de 'default'\n",
    "columnas_antes = clean_datos.columns[:col_index + 1].tolist()\n",
    "columnas_despues = clean_datos.columns[col_index + 1:].tolist()\n",
    "\n",
    "# Codificar nuevamente para asegurar que la columna esté lista\n",
    "clean_datos['default_encoded'] = clean_datos['default'].map({'yes': 1, 'no': 0})\n",
    "\n",
    "# Reasignar las columnas del DataFrame en el orden correcto\n",
    "clean_datos = clean_datos[columnas_antes + ['default_encoded'] + columnas_despues]\n",
    "\n",
    "# Verificar los cambios\n",
    "#print(clean_datos[['default', 'default_encoded']].head())\n",
    "\n",
    "# Imprimir valores específicos\n",
    "print(clean_datos.loc[100, ['default', 'default_encoded']])\n",
    "print(clean_datos.loc[1160, ['default', 'default_encoded']])"
   ]
  },
  {
   "cell_type": "code",
   "execution_count": 7,
   "id": "cc5a517e-9a24-43dc-bed7-3994121417dd",
   "metadata": {},
   "outputs": [
    {
     "name": "stdout",
     "output_type": "stream",
     "text": [
      "          job  marital  education default  default_encoded  balance housing  \\\n",
      "0      admin.  married  secondary      no                0   2343.0     yes   \n",
      "1      admin.  married  secondary      no                0     45.0      no   \n",
      "2  technician  married  secondary      no                0   1270.0     yes   \n",
      "3    services  married  secondary      no                0   2476.0     yes   \n",
      "4      admin.  married   tertiary      no                0    184.0      no   \n",
      "\n",
      "  loan month deposit  deposit_encoded  \n",
      "0   no   may     yes                1  \n",
      "1   no   may     yes                1  \n",
      "2   no   may     yes                1  \n",
      "3   no   may     yes                1  \n",
      "4   no   may     yes                1  \n"
     ]
    }
   ],
   "source": [
    "# Verificar el resultado\n",
    "print(clean_datos.head())"
   ]
  },
  {
   "cell_type": "code",
   "execution_count": 8,
   "id": "0b77cf69-d17a-4a28-af4f-dd17eba32251",
   "metadata": {},
   "outputs": [
    {
     "name": "stdout",
     "output_type": "stream",
     "text": [
      "housing            yes\n",
      "housing_encoded      1\n",
      "Name: 100, dtype: object\n",
      "housing            no\n",
      "housing_encoded     0\n",
      "Name: 1160, dtype: object\n"
     ]
    }
   ],
   "source": [
    "# Obtener la posición de la columna 'housing'\n",
    "col_index1 = clean_datos.columns.get_loc('housing')\n",
    "\n",
    "# Reordenar las columnas para insertar 'default_encoded' después de 'default'\n",
    "columnas_antes = clean_datos.columns[:col_index1 + 1].tolist()\n",
    "columnas_despues = clean_datos.columns[col_index1 + 1:].tolist()\n",
    "\n",
    "# Codificar nuevamente para asegurar que la columna esté lista\n",
    "clean_datos['housing_encoded'] = clean_datos['housing'].map({'yes': 1, 'no': 0})\n",
    "\n",
    "# Reasignar las columnas del DataFrame en el orden correcto\n",
    "clean_datos = clean_datos[columnas_antes + ['housing_encoded'] + columnas_despues]\n",
    "\n",
    "# Imprimir valores específicos\n",
    "print(clean_datos.loc[100, ['housing', 'housing_encoded']])\n",
    "print(clean_datos.loc[1160, ['housing', 'housing_encoded']])"
   ]
  },
  {
   "cell_type": "code",
   "execution_count": 9,
   "id": "368bf2f1-df4f-40c4-ab2b-d45272cb6b9f",
   "metadata": {},
   "outputs": [
    {
     "name": "stdout",
     "output_type": "stream",
     "text": [
      "          job  marital  education default  default_encoded  balance housing  \\\n",
      "0      admin.  married  secondary      no                0   2343.0     yes   \n",
      "1      admin.  married  secondary      no                0     45.0      no   \n",
      "2  technician  married  secondary      no                0   1270.0     yes   \n",
      "3    services  married  secondary      no                0   2476.0     yes   \n",
      "4      admin.  married   tertiary      no                0    184.0      no   \n",
      "\n",
      "   housing_encoded loan month deposit  deposit_encoded  \n",
      "0                1   no   may     yes                1  \n",
      "1                0   no   may     yes                1  \n",
      "2                1   no   may     yes                1  \n",
      "3                1   no   may     yes                1  \n",
      "4                0   no   may     yes                1  \n"
     ]
    }
   ],
   "source": [
    "# Verificar el resultado\n",
    "print(clean_datos.head())"
   ]
  },
  {
   "cell_type": "code",
   "execution_count": 10,
   "id": "7e502a20-09f8-4870-9d12-b5cac9fd081f",
   "metadata": {},
   "outputs": [
    {
     "name": "stdout",
     "output_type": "stream",
     "text": [
      "loan            no\n",
      "loan_encoded     0\n",
      "Name: 100, dtype: object\n",
      "loan            no\n",
      "loan_encoded     0\n",
      "Name: 1160, dtype: object\n"
     ]
    }
   ],
   "source": [
    "# Obtener la posición de la columna 'loan'\n",
    "col_index2 = clean_datos.columns.get_loc('loan')\n",
    "\n",
    "# Reordenar las columnas para insertar 'default_encoded' después de 'default'\n",
    "columnas_antes = clean_datos.columns[:col_index2 + 1].tolist()\n",
    "columnas_despues = clean_datos.columns[col_index2 + 1:].tolist()\n",
    "\n",
    "# Codificar nuevamente para asegurar que la columna esté lista\n",
    "clean_datos['loan_encoded'] = clean_datos['loan'].map({'yes': 1, 'no': 0})\n",
    "\n",
    "# Reasignar las columnas del DataFrame en el orden correcto\n",
    "clean_datos = clean_datos[columnas_antes + ['loan_encoded'] + columnas_despues]\n",
    "\n",
    "# Imprimir valores específicos\n",
    "print(clean_datos.loc[100, ['loan', 'loan_encoded']])\n",
    "print(clean_datos.loc[1160, ['loan', 'loan_encoded']])"
   ]
  },
  {
   "cell_type": "code",
   "execution_count": 11,
   "id": "e8b74b6c-1cba-479a-af64-31ad737c2c42",
   "metadata": {},
   "outputs": [
    {
     "name": "stdout",
     "output_type": "stream",
     "text": [
      "          job  marital  education default  default_encoded  balance housing  \\\n",
      "0      admin.  married  secondary      no                0   2343.0     yes   \n",
      "1      admin.  married  secondary      no                0     45.0      no   \n",
      "2  technician  married  secondary      no                0   1270.0     yes   \n",
      "3    services  married  secondary      no                0   2476.0     yes   \n",
      "4      admin.  married   tertiary      no                0    184.0      no   \n",
      "\n",
      "   housing_encoded loan  loan_encoded month deposit  deposit_encoded  \n",
      "0                1   no             0   may     yes                1  \n",
      "1                0   no             0   may     yes                1  \n",
      "2                1   no             0   may     yes                1  \n",
      "3                1   no             0   may     yes                1  \n",
      "4                0   no             0   may     yes                1  \n"
     ]
    }
   ],
   "source": [
    "# Verificar el resultado\n",
    "print(clean_datos.head())"
   ]
  },
  {
   "cell_type": "markdown",
   "id": "a8b6da2a-4fdb-447f-b307-fbfb2194ffb7",
   "metadata": {},
   "source": [
    "para ir dandole forma al dataset en esta parte realizare el drop de las columnas que ya han sido codificadas."
   ]
  },
  {
   "cell_type": "code",
   "execution_count": 12,
   "id": "93375e74-3c83-463a-a91f-a89524c77345",
   "metadata": {},
   "outputs": [
    {
     "name": "stdout",
     "output_type": "stream",
     "text": [
      "          job  marital  education  default_encoded  balance  housing_encoded  \\\n",
      "0      admin.  married  secondary                0   2343.0                1   \n",
      "1      admin.  married  secondary                0     45.0                0   \n",
      "2  technician  married  secondary                0   1270.0                1   \n",
      "3    services  married  secondary                0   2476.0                1   \n",
      "4      admin.  married   tertiary                0    184.0                0   \n",
      "\n",
      "   loan_encoded month  deposit_encoded  \n",
      "0             0   may                1  \n",
      "1             0   may                1  \n",
      "2             0   may                1  \n",
      "3             0   may                1  \n",
      "4             0   may                1  \n"
     ]
    }
   ],
   "source": [
    "drop_col = ['default','housing','loan','deposit']\n",
    "\n",
    "datos_codificados = clean_datos.drop(columns=drop_col)\n",
    "print(datos_codificados.head())"
   ]
  },
  {
   "cell_type": "markdown",
   "id": "3ab3983b-c5d5-4e34-b149-e80f6fafbec9",
   "metadata": {},
   "source": [
    "- Ahora realizare One hot Encoders para las columnas de caracteristicas categoricas (marital, education, job y month) "
   ]
  },
  {
   "cell_type": "code",
   "execution_count": 13,
   "id": "d3b1a9fd-2a5e-440c-b435-39e29a18a77f",
   "metadata": {},
   "outputs": [
    {
     "name": "stdout",
     "output_type": "stream",
     "text": [
      "Columnas después de reordenar:\n",
      "          job  marital  marital_divorced  marital_married  marital_single  \\\n",
      "0      admin.  married               0.0              1.0             0.0   \n",
      "1      admin.  married               0.0              1.0             0.0   \n",
      "2  technician  married               0.0              1.0             0.0   \n",
      "3    services  married               0.0              1.0             0.0   \n",
      "4      admin.  married               0.0              1.0             0.0   \n",
      "\n",
      "   education  default_encoded  balance  housing_encoded  loan_encoded month  \\\n",
      "0  secondary                0   2343.0                1             0   may   \n",
      "1  secondary                0     45.0                0             0   may   \n",
      "2  secondary                0   1270.0                1             0   may   \n",
      "3  secondary                0   2476.0                1             0   may   \n",
      "4   tertiary                0    184.0                0             0   may   \n",
      "\n",
      "   deposit_encoded  \n",
      "0                1  \n",
      "1                1  \n",
      "2                1  \n",
      "3                1  \n",
      "4                1  \n"
     ]
    }
   ],
   "source": [
    "# Crear el objeto OneHotEncoder\n",
    "encoder = OneHotEncoder(sparse_output=False, drop=None)\n",
    "\n",
    "# Ajustar el encoder a la columna 'job' y transformar\n",
    "marital_encoded = encoder.fit_transform(datos_codificados[['marital']])\n",
    "\n",
    "# Crear un DataFrame con las columnas codificadas\n",
    "marital_encoded_df = pd.DataFrame(marital_encoded, columns=encoder.get_feature_names_out(['marital']))\n",
    "\n",
    "# Obtener el índice de la columna 'job' para posicionar las nuevas columnas\n",
    "marital_index = datos_codificados.columns.get_loc('marital')\n",
    "\n",
    "# Insertar las nuevas columnas justo después de la columna 'job'\n",
    "datos_encoder = pd.concat([datos_codificados.iloc[:, :marital_index + 1], marital_encoded_df, datos_codificados.iloc[:, marital_index + 1:]], axis=1)\n",
    "\n",
    "# Verificar los cambios\n",
    "print(\"Columnas después de reordenar:\")\n",
    "print(datos_encoder.head())"
   ]
  },
  {
   "cell_type": "code",
   "execution_count": 14,
   "id": "f344764e-2ffa-4546-b423-13b898aecb94",
   "metadata": {},
   "outputs": [
    {
     "name": "stdout",
     "output_type": "stream",
     "text": [
      "Columnas después de reordenar:\n",
      "          job  marital  marital_divorced  marital_married  marital_single  \\\n",
      "0      admin.  married               0.0              1.0             0.0   \n",
      "1      admin.  married               0.0              1.0             0.0   \n",
      "2  technician  married               0.0              1.0             0.0   \n",
      "3    services  married               0.0              1.0             0.0   \n",
      "4      admin.  married               0.0              1.0             0.0   \n",
      "\n",
      "   education  education_primary  education_secondary  education_tertiary  \\\n",
      "0  secondary                0.0                  1.0                 0.0   \n",
      "1  secondary                0.0                  1.0                 0.0   \n",
      "2  secondary                0.0                  1.0                 0.0   \n",
      "3  secondary                0.0                  1.0                 0.0   \n",
      "4   tertiary                0.0                  0.0                 1.0   \n",
      "\n",
      "   education_unknown  default_encoded  balance  housing_encoded  loan_encoded  \\\n",
      "0                0.0                0   2343.0                1             0   \n",
      "1                0.0                0     45.0                0             0   \n",
      "2                0.0                0   1270.0                1             0   \n",
      "3                0.0                0   2476.0                1             0   \n",
      "4                0.0                0    184.0                0             0   \n",
      "\n",
      "  month  deposit_encoded  \n",
      "0   may                1  \n",
      "1   may                1  \n",
      "2   may                1  \n",
      "3   may                1  \n",
      "4   may                1  \n"
     ]
    }
   ],
   "source": [
    "# Crear el objeto OneHotEncoder\n",
    "encoder = OneHotEncoder(sparse_output=False, drop=None)\n",
    "\n",
    "# Ajustar el encoder a la columna 'job' y transformar\n",
    "education_encoded = encoder.fit_transform(datos_encoder[['education']])\n",
    "\n",
    "# Crear un DataFrame con las columnas codificadas\n",
    "education_encoded_df = pd.DataFrame(education_encoded, columns=encoder.get_feature_names_out(['education']))\n",
    "\n",
    "# Obtener el índice de la columna 'job' para posicionar las nuevas columnas\n",
    "education_index = datos_encoder.columns.get_loc('education')\n",
    "\n",
    "# Insertar las nuevas columnas justo después de la columna 'job'\n",
    "datos_encoder1 = pd.concat([datos_encoder.iloc[:, :education_index + 1], education_encoded_df, datos_encoder.iloc[:, education_index + 1:]], axis=1)\n",
    "\n",
    "# Verificar los cambios\n",
    "print(\"Columnas después de reordenar:\")\n",
    "print(datos_encoder1.head())"
   ]
  },
  {
   "cell_type": "code",
   "execution_count": 15,
   "id": "932a8a1b-9088-456a-a54c-fde8ec6ded2a",
   "metadata": {},
   "outputs": [
    {
     "name": "stdout",
     "output_type": "stream",
     "text": [
      "Columnas después de reordenar:\n",
      "          job  marital  marital_divorced  marital_married  marital_single  \\\n",
      "0      admin.  married               0.0              1.0             0.0   \n",
      "1      admin.  married               0.0              1.0             0.0   \n",
      "2  technician  married               0.0              1.0             0.0   \n",
      "3    services  married               0.0              1.0             0.0   \n",
      "4      admin.  married               0.0              1.0             0.0   \n",
      "\n",
      "   education  education_primary  education_secondary  education_tertiary  \\\n",
      "0  secondary                0.0                  1.0                 0.0   \n",
      "1  secondary                0.0                  1.0                 0.0   \n",
      "2  secondary                0.0                  1.0                 0.0   \n",
      "3  secondary                0.0                  1.0                 0.0   \n",
      "4   tertiary                0.0                  0.0                 1.0   \n",
      "\n",
      "   education_unknown  default_encoded  balance  housing_encoded  loan_encoded  \\\n",
      "0                0.0                0   2343.0                1             0   \n",
      "1                0.0                0     45.0                0             0   \n",
      "2                0.0                0   1270.0                1             0   \n",
      "3                0.0                0   2476.0                1             0   \n",
      "4                0.0                0    184.0                0             0   \n",
      "\n",
      "  month  season  deposit_encoded  \n",
      "0   may  spring                1  \n",
      "1   may  spring                1  \n",
      "2   may  spring                1  \n",
      "3   may  spring                1  \n",
      "4   may  spring                1  \n"
     ]
    }
   ],
   "source": [
    "# mapear meses a estaciones\n",
    "meses_a_estaciones = {\n",
    "    'jan': 'winter', 'feb': 'winter', 'mar': 'spring',\n",
    "    'apr': 'spring', 'may': 'spring', 'jun': 'summer',\n",
    "    'jul': 'summer', 'aug': 'summer', 'sep': 'autumn',\n",
    "    'oct': 'autumn', 'nov': 'autumn', 'dec': 'winter'\n",
    "}\n",
    "\n",
    "# Obtener la posición de la columna\n",
    "col_index3 = datos_encoder1.columns.get_loc('month')\n",
    "\n",
    "# Reordenar las columnas para insertar '' después de ''\n",
    "columnas_antes = datos_encoder1.columns[:col_index3 + 1].tolist()\n",
    "columnas_despues = datos_encoder1.columns[col_index3 + 1:].tolist()\n",
    "\n",
    "# Crear una nueva columna 'season' en el DataFrame basada en la columna 'month'\n",
    "datos_encoder1['season'] = datos_encoder1['month'].map(meses_a_estaciones)\n",
    "\n",
    "# Reasignar las columnas del DataFrame en el orden correcto\n",
    "datos_encoder2 = datos_encoder1[columnas_antes + ['season'] + columnas_despues]\n",
    "\n",
    "# Verificar los cambios\n",
    "print(\"Columnas después de reordenar:\")\n",
    "print(datos_encoder2.head())"
   ]
  },
  {
   "cell_type": "code",
   "execution_count": 16,
   "id": "94089ef5-f2c8-413d-b0da-4b09659ab927",
   "metadata": {},
   "outputs": [
    {
     "name": "stdout",
     "output_type": "stream",
     "text": [
      "month        may\n",
      "season    spring\n",
      "Name: 100, dtype: object\n",
      "month        feb\n",
      "season    winter\n",
      "Name: 1160, dtype: object\n"
     ]
    }
   ],
   "source": [
    "# Imprimir valores específicos\n",
    "print(datos_encoder2.loc[100, ['month', 'season']])\n",
    "print(datos_encoder2.loc[1160, ['month', 'season']])"
   ]
  },
  {
   "cell_type": "code",
   "execution_count": 17,
   "id": "1261747d-2bca-4664-acb7-e30c67e4034a",
   "metadata": {},
   "outputs": [
    {
     "name": "stdout",
     "output_type": "stream",
     "text": [
      "Columnas después de reordenar:\n",
      "          job  marital  marital_divorced  marital_married  marital_single  \\\n",
      "0      admin.  married               0.0              1.0             0.0   \n",
      "1      admin.  married               0.0              1.0             0.0   \n",
      "2  technician  married               0.0              1.0             0.0   \n",
      "3    services  married               0.0              1.0             0.0   \n",
      "4      admin.  married               0.0              1.0             0.0   \n",
      "\n",
      "   education  education_primary  education_secondary  education_tertiary  \\\n",
      "0  secondary                0.0                  1.0                 0.0   \n",
      "1  secondary                0.0                  1.0                 0.0   \n",
      "2  secondary                0.0                  1.0                 0.0   \n",
      "3  secondary                0.0                  1.0                 0.0   \n",
      "4   tertiary                0.0                  0.0                 1.0   \n",
      "\n",
      "   education_unknown  ...  balance  housing_encoded  loan_encoded  month  \\\n",
      "0                0.0  ...   2343.0                1             0    may   \n",
      "1                0.0  ...     45.0                0             0    may   \n",
      "2                0.0  ...   1270.0                1             0    may   \n",
      "3                0.0  ...   2476.0                1             0    may   \n",
      "4                0.0  ...    184.0                0             0    may   \n",
      "\n",
      "   season season_autumn  season_spring  season_summer  season_winter  \\\n",
      "0  spring           0.0            1.0            0.0            0.0   \n",
      "1  spring           0.0            1.0            0.0            0.0   \n",
      "2  spring           0.0            1.0            0.0            0.0   \n",
      "3  spring           0.0            1.0            0.0            0.0   \n",
      "4  spring           0.0            1.0            0.0            0.0   \n",
      "\n",
      "   deposit_encoded  \n",
      "0                1  \n",
      "1                1  \n",
      "2                1  \n",
      "3                1  \n",
      "4                1  \n",
      "\n",
      "[5 rows x 21 columns]\n"
     ]
    }
   ],
   "source": [
    "# Crear el objeto OneHotEncoder\n",
    "encoder = OneHotEncoder(sparse_output=False, drop=None)\n",
    "\n",
    "# Ajustar el encoder a la columna '' \n",
    "season_encoded = encoder.fit_transform(datos_encoder2[['season']])\n",
    "\n",
    "# Crear un DataFrame con las columnas codificadas\n",
    "season_encoded_df = pd.DataFrame(season_encoded, columns=encoder.get_feature_names_out(['season']))\n",
    "\n",
    "# Obtener el índice de la columna '' para posicionar las nuevas columnas\n",
    "season_index = datos_encoder2.columns.get_loc('season')\n",
    "\n",
    "# Insertar las nuevas columnas justo después de la columna ''\n",
    "datos_encoder3 = pd.concat([datos_encoder2.iloc[:, :season_index + 1], season_encoded_df, datos_encoder2.iloc[:, season_index + 1:]], axis=1)\n",
    "\n",
    "# Verificar los cambios\n",
    "print(\"Columnas después de reordenar:\")\n",
    "print(datos_encoder3.head())"
   ]
  },
  {
   "cell_type": "code",
   "execution_count": 18,
   "id": "59f922af-60a7-452b-9538-9716f39be011",
   "metadata": {},
   "outputs": [
    {
     "name": "stdout",
     "output_type": "stream",
     "text": [
      "job\n",
      "management       2566\n",
      "blue-collar      1944\n",
      "technician       1823\n",
      "admin.           1334\n",
      "services          923\n",
      "retired           778\n",
      "self-employed     405\n",
      "student           360\n",
      "unemployed        357\n",
      "entrepreneur      328\n",
      "housemaid         274\n",
      "unknown            70\n",
      "Name: count, dtype: int64\n"
     ]
    }
   ],
   "source": [
    "# Hacer un conteo de los valores únicos en la columna \n",
    "valores = datos_encoder3['job'].value_counts()\n",
    "\n",
    "# Imprimir el conteo\n",
    "print(valores)"
   ]
  },
  {
   "cell_type": "markdown",
   "id": "b38e4283-456e-44b1-bff9-c184e2441528",
   "metadata": {},
   "source": [
    "- Se realizara una agrupación de los jobs para conseguir tener menos categorias dentro de la variable. Por ello se opto por las siguientes: profesionales, t_manuales, out_laboral, unknown"
   ]
  },
  {
   "cell_type": "code",
   "execution_count": 19,
   "id": "8ba59cf9-30c4-4d31-b3bd-c794bb6ac6b8",
   "metadata": {},
   "outputs": [
    {
     "name": "stdout",
     "output_type": "stream",
     "text": [
      "Columnas después de reordenar:\n",
      "          job job_category  marital  marital_divorced  marital_married  \\\n",
      "0      admin.  profesional  married               0.0              1.0   \n",
      "1      admin.  profesional  married               0.0              1.0   \n",
      "2  technician  profesional  married               0.0              1.0   \n",
      "3    services   t_manuales  married               0.0              1.0   \n",
      "4      admin.  profesional  married               0.0              1.0   \n",
      "\n",
      "   marital_single  education  education_primary  education_secondary  \\\n",
      "0             0.0  secondary                0.0                  1.0   \n",
      "1             0.0  secondary                0.0                  1.0   \n",
      "2             0.0  secondary                0.0                  1.0   \n",
      "3             0.0  secondary                0.0                  1.0   \n",
      "4             0.0   tertiary                0.0                  0.0   \n",
      "\n",
      "   education_tertiary  ...  balance  housing_encoded  loan_encoded  month  \\\n",
      "0                 0.0  ...   2343.0                1             0    may   \n",
      "1                 0.0  ...     45.0                0             0    may   \n",
      "2                 0.0  ...   1270.0                1             0    may   \n",
      "3                 0.0  ...   2476.0                1             0    may   \n",
      "4                 1.0  ...    184.0                0             0    may   \n",
      "\n",
      "   season season_autumn season_spring  season_summer  season_winter  \\\n",
      "0  spring           0.0           1.0            0.0            0.0   \n",
      "1  spring           0.0           1.0            0.0            0.0   \n",
      "2  spring           0.0           1.0            0.0            0.0   \n",
      "3  spring           0.0           1.0            0.0            0.0   \n",
      "4  spring           0.0           1.0            0.0            0.0   \n",
      "\n",
      "   deposit_encoded  \n",
      "0                1  \n",
      "1                1  \n",
      "2                1  \n",
      "3                1  \n",
      "4                1  \n",
      "\n",
      "[5 rows x 22 columns]\n"
     ]
    }
   ],
   "source": [
    "# Diccionario de mapeo para agrupar ocupaciones\n",
    "jobs_tranform = {\n",
    "    'management': 'profesional',\n",
    "    'technician': 'profesional',\n",
    "    'admin.': 'profesional',\n",
    "    'self-employed': 'profesional',\n",
    "    'entrepreneur': 'profesional',\n",
    "    'blue-collar': 't_manuales',\n",
    "    'services': 't_manuales',\n",
    "    'housemaid': 't_manuales',\n",
    "    'retired': 'out_laboral',\n",
    "    'student': 'out_laboral',\n",
    "    'unemployed': 'out_laboral',\n",
    "    'unknown': 'unknown'\n",
    "}\n",
    "\n",
    "# Obtener la posición de la columna\n",
    "col_index4 = datos_encoder3.columns.get_loc('job')\n",
    "\n",
    "# Reordenar las columnas para insertar '' después de ''\n",
    "columnas_antes = datos_encoder3.columns[:col_index4 + 1].tolist()\n",
    "columnas_despues = datos_encoder3.columns[col_index4 + 1:].tolist()\n",
    "\n",
    "# Crear una nueva columna '' en el DataFrame basada en la columna ''\n",
    "datos_encoder3['job_category'] = datos_encoder3['job'].map(jobs_tranform)\n",
    "\n",
    "# Reasignar las columnas del DataFrame en el orden correcto\n",
    "datos_encoder4 = datos_encoder3[columnas_antes + ['job_category'] + columnas_despues]\n",
    "\n",
    "# Verificar los cambios\n",
    "print(\"Columnas después de reordenar:\")\n",
    "print(datos_encoder4.head())"
   ]
  },
  {
   "cell_type": "code",
   "execution_count": 20,
   "id": "fbcb8621-8262-4e5c-bdce-bb5463b461f9",
   "metadata": {},
   "outputs": [
    {
     "name": "stdout",
     "output_type": "stream",
     "text": [
      "Columnas después de reordenar:\n",
      "          job job_category  job_category_out_laboral  \\\n",
      "0      admin.  profesional                       0.0   \n",
      "1      admin.  profesional                       0.0   \n",
      "2  technician  profesional                       0.0   \n",
      "3    services   t_manuales                       0.0   \n",
      "4      admin.  profesional                       0.0   \n",
      "\n",
      "   job_category_profesional  job_category_t_manuales  job_category_unknown  \\\n",
      "0                       1.0                      0.0                   0.0   \n",
      "1                       1.0                      0.0                   0.0   \n",
      "2                       1.0                      0.0                   0.0   \n",
      "3                       0.0                      1.0                   0.0   \n",
      "4                       1.0                      0.0                   0.0   \n",
      "\n",
      "   marital  marital_divorced  marital_married  marital_single  ... balance  \\\n",
      "0  married               0.0              1.0             0.0  ...  2343.0   \n",
      "1  married               0.0              1.0             0.0  ...    45.0   \n",
      "2  married               0.0              1.0             0.0  ...  1270.0   \n",
      "3  married               0.0              1.0             0.0  ...  2476.0   \n",
      "4  married               0.0              1.0             0.0  ...   184.0   \n",
      "\n",
      "   housing_encoded  loan_encoded  month  season  season_autumn  season_spring  \\\n",
      "0                1             0    may  spring            0.0            1.0   \n",
      "1                0             0    may  spring            0.0            1.0   \n",
      "2                1             0    may  spring            0.0            1.0   \n",
      "3                1             0    may  spring            0.0            1.0   \n",
      "4                0             0    may  spring            0.0            1.0   \n",
      "\n",
      "   season_summer  season_winter deposit_encoded  \n",
      "0            0.0            0.0               1  \n",
      "1            0.0            0.0               1  \n",
      "2            0.0            0.0               1  \n",
      "3            0.0            0.0               1  \n",
      "4            0.0            0.0               1  \n",
      "\n",
      "[5 rows x 26 columns]\n"
     ]
    }
   ],
   "source": [
    "# Crear el objeto OneHotEncoder\n",
    "encoder = OneHotEncoder(sparse_output=False, drop=None)\n",
    "\n",
    "# Ajustar el encoder a la columna '' \n",
    "job_encoded = encoder.fit_transform(datos_encoder4[['job_category']])\n",
    "\n",
    "# Crear un DataFrame con las columnas codificadas\n",
    "job_encoded_df = pd.DataFrame(job_encoded, columns=encoder.get_feature_names_out(['job_category']))\n",
    "\n",
    "# Obtener el índice de la columna '' para posicionar las nuevas columnas\n",
    "job_index = datos_encoder4.columns.get_loc('job_category')\n",
    "\n",
    "# Insertar las nuevas columnas justo después de la columna ''\n",
    "datos_encoder5 = pd.concat([datos_encoder4.iloc[:, :job_index + 1], job_encoded_df, datos_encoder4.iloc[:, job_index + 1:]], axis=1)\n",
    "\n",
    "# Verificar los cambios\n",
    "print(\"Columnas después de reordenar:\")\n",
    "print(datos_encoder5.head())"
   ]
  },
  {
   "cell_type": "code",
   "execution_count": 21,
   "id": "3fd0750e-239f-4008-a643-d0ec65431482",
   "metadata": {},
   "outputs": [
    {
     "name": "stdout",
     "output_type": "stream",
     "text": [
      "<class 'pandas.core.frame.DataFrame'>\n",
      "RangeIndex: 11162 entries, 0 to 11161\n",
      "Data columns (total 26 columns):\n",
      " #   Column                    Non-Null Count  Dtype  \n",
      "---  ------                    --------------  -----  \n",
      " 0   job                       11162 non-null  object \n",
      " 1   job_category              11162 non-null  object \n",
      " 2   job_category_out_laboral  11162 non-null  float64\n",
      " 3   job_category_profesional  11162 non-null  float64\n",
      " 4   job_category_t_manuales   11162 non-null  float64\n",
      " 5   job_category_unknown      11162 non-null  float64\n",
      " 6   marital                   11162 non-null  object \n",
      " 7   marital_divorced          11162 non-null  float64\n",
      " 8   marital_married           11162 non-null  float64\n",
      " 9   marital_single            11162 non-null  float64\n",
      " 10  education                 11162 non-null  object \n",
      " 11  education_primary         11162 non-null  float64\n",
      " 12  education_secondary       11162 non-null  float64\n",
      " 13  education_tertiary        11162 non-null  float64\n",
      " 14  education_unknown         11162 non-null  float64\n",
      " 15  default_encoded           11162 non-null  int64  \n",
      " 16  balance                   11162 non-null  float64\n",
      " 17  housing_encoded           11162 non-null  int64  \n",
      " 18  loan_encoded              11162 non-null  int64  \n",
      " 19  month                     11162 non-null  object \n",
      " 20  season                    11162 non-null  object \n",
      " 21  season_autumn             11162 non-null  float64\n",
      " 22  season_spring             11162 non-null  float64\n",
      " 23  season_summer             11162 non-null  float64\n",
      " 24  season_winter             11162 non-null  float64\n",
      " 25  deposit_encoded           11162 non-null  int64  \n",
      "dtypes: float64(16), int64(4), object(6)\n",
      "memory usage: 2.2+ MB\n"
     ]
    }
   ],
   "source": [
    "datos_encoder5.info()"
   ]
  },
  {
   "cell_type": "code",
   "execution_count": 22,
   "id": "95fcc599-7a5e-4c8d-9428-5b2dd4248834",
   "metadata": {},
   "outputs": [
    {
     "name": "stdout",
     "output_type": "stream",
     "text": [
      "   job_category_out_laboral  job_category_profesional  \\\n",
      "0                       0.0                       1.0   \n",
      "1                       0.0                       1.0   \n",
      "2                       0.0                       1.0   \n",
      "3                       0.0                       0.0   \n",
      "4                       0.0                       1.0   \n",
      "\n",
      "   job_category_t_manuales  job_category_unknown  marital_divorced  \\\n",
      "0                      0.0                   0.0               0.0   \n",
      "1                      0.0                   0.0               0.0   \n",
      "2                      0.0                   0.0               0.0   \n",
      "3                      1.0                   0.0               0.0   \n",
      "4                      0.0                   0.0               0.0   \n",
      "\n",
      "   marital_married  marital_single  education_primary  education_secondary  \\\n",
      "0              1.0             0.0                0.0                  1.0   \n",
      "1              1.0             0.0                0.0                  1.0   \n",
      "2              1.0             0.0                0.0                  1.0   \n",
      "3              1.0             0.0                0.0                  1.0   \n",
      "4              1.0             0.0                0.0                  0.0   \n",
      "\n",
      "   education_tertiary  education_unknown  default_encoded  balance  \\\n",
      "0                 0.0                0.0                0   2343.0   \n",
      "1                 0.0                0.0                0     45.0   \n",
      "2                 0.0                0.0                0   1270.0   \n",
      "3                 0.0                0.0                0   2476.0   \n",
      "4                 1.0                0.0                0    184.0   \n",
      "\n",
      "   housing_encoded  loan_encoded  season_autumn  season_spring  season_summer  \\\n",
      "0                1             0            0.0            1.0            0.0   \n",
      "1                0             0            0.0            1.0            0.0   \n",
      "2                1             0            0.0            1.0            0.0   \n",
      "3                1             0            0.0            1.0            0.0   \n",
      "4                0             0            0.0            1.0            0.0   \n",
      "\n",
      "   season_winter  deposit_encoded  \n",
      "0            0.0                1  \n",
      "1            0.0                1  \n",
      "2            0.0                1  \n",
      "3            0.0                1  \n",
      "4            0.0                1  \n"
     ]
    }
   ],
   "source": [
    "drop_col2 = ['job','job_category','marital','month','season', 'education',]\n",
    "\n",
    "datos_codificados2 = datos_encoder5.drop(columns=drop_col2)\n",
    "print(datos_codificados2.head())"
   ]
  },
  {
   "cell_type": "code",
   "execution_count": 23,
   "id": "cda02e47-46a8-4418-961c-132a8e5e2970",
   "metadata": {},
   "outputs": [
    {
     "name": "stdout",
     "output_type": "stream",
     "text": [
      "<class 'pandas.core.frame.DataFrame'>\n",
      "RangeIndex: 11162 entries, 0 to 11161\n",
      "Data columns (total 20 columns):\n",
      " #   Column                    Non-Null Count  Dtype  \n",
      "---  ------                    --------------  -----  \n",
      " 0   job_category_out_laboral  11162 non-null  float64\n",
      " 1   job_category_profesional  11162 non-null  float64\n",
      " 2   job_category_t_manuales   11162 non-null  float64\n",
      " 3   job_category_unknown      11162 non-null  float64\n",
      " 4   marital_divorced          11162 non-null  float64\n",
      " 5   marital_married           11162 non-null  float64\n",
      " 6   marital_single            11162 non-null  float64\n",
      " 7   education_primary         11162 non-null  float64\n",
      " 8   education_secondary       11162 non-null  float64\n",
      " 9   education_tertiary        11162 non-null  float64\n",
      " 10  education_unknown         11162 non-null  float64\n",
      " 11  default_encoded           11162 non-null  int64  \n",
      " 12  balance                   11162 non-null  float64\n",
      " 13  housing_encoded           11162 non-null  int64  \n",
      " 14  loan_encoded              11162 non-null  int64  \n",
      " 15  season_autumn             11162 non-null  float64\n",
      " 16  season_spring             11162 non-null  float64\n",
      " 17  season_summer             11162 non-null  float64\n",
      " 18  season_winter             11162 non-null  float64\n",
      " 19  deposit_encoded           11162 non-null  int64  \n",
      "dtypes: float64(16), int64(4)\n",
      "memory usage: 1.7 MB\n"
     ]
    }
   ],
   "source": [
    "datos_codificados2.info()"
   ]
  },
  {
   "cell_type": "markdown",
   "id": "451af729-f309-4445-b9a0-297455af2e85",
   "metadata": {},
   "source": [
    "- Ahora solo hace fata la variable \"Balance\" para este aplicare RobustScaler de la libreria Scikit-learn que va muy bien para escalar variables, ya que es robusto frente a valores atípicos y teniendo en cuenta que los datos que se encuentran en la variable tiene valores extremos, se considera servira para manejarlos."
   ]
  },
  {
   "cell_type": "code",
   "execution_count": 24,
   "id": "fe0046a7-6e88-440a-ad0e-2ab7cb2a7616",
   "metadata": {},
   "outputs": [],
   "source": [
    "from sklearn.preprocessing import RobustScaler"
   ]
  },
  {
   "cell_type": "code",
   "execution_count": 25,
   "id": "59103d00-6626-4cd0-a5d3-e2e66e03db2d",
   "metadata": {},
   "outputs": [
    {
     "name": "stdout",
     "output_type": "stream",
     "text": [
      "   balance  balance_scaled\n",
      "0   2343.0        1.130517\n",
      "1     45.0       -0.318411\n",
      "2   1270.0        0.453972\n",
      "3   2476.0        1.214376\n",
      "4    184.0       -0.230769\n"
     ]
    }
   ],
   "source": [
    "# Crear una instancia del RobustScaler\n",
    "scaler = RobustScaler()\n",
    "\n",
    "# Escalar la columna 'balance' y crear una nueva columna 'balance_scaled'\n",
    "datos_codificados2['balance_scaled'] = scaler.fit_transform(datos_codificados2[['balance']])\n",
    "\n",
    "# Verificar los resultados\n",
    "print(datos_codificados2[['balance', 'balance_scaled']].head())"
   ]
  },
  {
   "cell_type": "code",
   "execution_count": 26,
   "id": "163205ff-9949-4899-bbe0-d930aeda4e65",
   "metadata": {},
   "outputs": [
    {
     "name": "stdout",
     "output_type": "stream",
     "text": [
      "   job_category_out_laboral  job_category_profesional  \\\n",
      "0                       0.0                       1.0   \n",
      "1                       0.0                       1.0   \n",
      "2                       0.0                       1.0   \n",
      "3                       0.0                       0.0   \n",
      "4                       0.0                       1.0   \n",
      "\n",
      "   job_category_t_manuales  job_category_unknown  marital_divorced  \\\n",
      "0                      0.0                   0.0               0.0   \n",
      "1                      0.0                   0.0               0.0   \n",
      "2                      0.0                   0.0               0.0   \n",
      "3                      1.0                   0.0               0.0   \n",
      "4                      0.0                   0.0               0.0   \n",
      "\n",
      "   marital_married  marital_single  education_primary  education_secondary  \\\n",
      "0              1.0             0.0                0.0                  1.0   \n",
      "1              1.0             0.0                0.0                  1.0   \n",
      "2              1.0             0.0                0.0                  1.0   \n",
      "3              1.0             0.0                0.0                  1.0   \n",
      "4              1.0             0.0                0.0                  0.0   \n",
      "\n",
      "   education_tertiary  ...  default_encoded  balance  housing_encoded  \\\n",
      "0                 0.0  ...                0   2343.0                1   \n",
      "1                 0.0  ...                0     45.0                0   \n",
      "2                 0.0  ...                0   1270.0                1   \n",
      "3                 0.0  ...                0   2476.0                1   \n",
      "4                 1.0  ...                0    184.0                0   \n",
      "\n",
      "   loan_encoded  season_autumn  season_spring  season_summer  season_winter  \\\n",
      "0             0            0.0            1.0            0.0            0.0   \n",
      "1             0            0.0            1.0            0.0            0.0   \n",
      "2             0            0.0            1.0            0.0            0.0   \n",
      "3             0            0.0            1.0            0.0            0.0   \n",
      "4             0            0.0            1.0            0.0            0.0   \n",
      "\n",
      "   deposit_encoded  balance_scaled  \n",
      "0                1        1.130517  \n",
      "1                1       -0.318411  \n",
      "2                1        0.453972  \n",
      "3                1        1.214376  \n",
      "4                1       -0.230769  \n",
      "\n",
      "[5 rows x 21 columns]\n"
     ]
    }
   ],
   "source": [
    "print(datos_codificados2.head())"
   ]
  },
  {
   "cell_type": "code",
   "execution_count": 27,
   "id": "87607229-aa51-40cf-865e-96108922c9e5",
   "metadata": {},
   "outputs": [
    {
     "name": "stdout",
     "output_type": "stream",
     "text": [
      "   job_category_out_laboral  job_category_profesional  \\\n",
      "0                       0.0                       1.0   \n",
      "1                       0.0                       1.0   \n",
      "2                       0.0                       1.0   \n",
      "3                       0.0                       0.0   \n",
      "4                       0.0                       1.0   \n",
      "\n",
      "   job_category_t_manuales  job_category_unknown  marital_divorced  \\\n",
      "0                      0.0                   0.0               0.0   \n",
      "1                      0.0                   0.0               0.0   \n",
      "2                      0.0                   0.0               0.0   \n",
      "3                      1.0                   0.0               0.0   \n",
      "4                      0.0                   0.0               0.0   \n",
      "\n",
      "   marital_married  marital_single  education_primary  education_secondary  \\\n",
      "0              1.0             0.0                0.0                  1.0   \n",
      "1              1.0             0.0                0.0                  1.0   \n",
      "2              1.0             0.0                0.0                  1.0   \n",
      "3              1.0             0.0                0.0                  1.0   \n",
      "4              1.0             0.0                0.0                  0.0   \n",
      "\n",
      "   education_tertiary  education_unknown  default_encoded  housing_encoded  \\\n",
      "0                 0.0                0.0                0                1   \n",
      "1                 0.0                0.0                0                0   \n",
      "2                 0.0                0.0                0                1   \n",
      "3                 0.0                0.0                0                1   \n",
      "4                 1.0                0.0                0                0   \n",
      "\n",
      "   loan_encoded  season_autumn  season_spring  season_summer  season_winter  \\\n",
      "0             0            0.0            1.0            0.0            0.0   \n",
      "1             0            0.0            1.0            0.0            0.0   \n",
      "2             0            0.0            1.0            0.0            0.0   \n",
      "3             0            0.0            1.0            0.0            0.0   \n",
      "4             0            0.0            1.0            0.0            0.0   \n",
      "\n",
      "   deposit_encoded  balance_scaled  \n",
      "0                1        1.130517  \n",
      "1                1       -0.318411  \n",
      "2                1        0.453972  \n",
      "3                1        1.214376  \n",
      "4                1       -0.230769  \n"
     ]
    }
   ],
   "source": [
    "datos_codificados3 = datos_codificados2.drop(columns='balance')\n",
    "print(datos_codificados3.head())"
   ]
  },
  {
   "cell_type": "code",
   "execution_count": 28,
   "id": "1d06e65d-2c04-4048-8d1a-2a3992055f15",
   "metadata": {},
   "outputs": [],
   "source": [
    "# Guardar el dataset\n",
    "datos_codificados3.to_csv('bank_dataset_preparados.csv', index=False)"
   ]
  },
  {
   "cell_type": "markdown",
   "id": "d51a0c15-2e47-4625-96d9-0eee7e00d7eb",
   "metadata": {},
   "source": [
    "### Division del dataset\n",
    "\n",
    "he decidido hacer primero todo el proceso de codificacion, estandarizacion de las variables de dataset y posterior a ello hacer la division del mismo en el conjunto de entrenamiento y prueba, esto debido a que al dividirlo como primer paso deberia hacer el proceso de codificacion y estandarizacion por duplicado. \n",
    "\n",
    "Hare una division del dataset en conjuntos de entrenamiento (70%) y prueba (30%) ya que es uno de las particiones sugeridas."
   ]
  },
  {
   "cell_type": "code",
   "execution_count": 29,
   "id": "4da4c9dc-3f08-41f8-959c-41d021df84c1",
   "metadata": {},
   "outputs": [],
   "source": [
    "from sklearn.model_selection import train_test_split"
   ]
  },
  {
   "cell_type": "code",
   "execution_count": 30,
   "id": "01457b27-ace6-4771-b91e-aaddcecffd08",
   "metadata": {},
   "outputs": [
    {
     "name": "stdout",
     "output_type": "stream",
     "text": [
      "Tamaño de X_train: (7813, 19)\n",
      "Tamaño de X_test: (3349, 19)\n",
      "Tamaño de y_train: (7813,)\n",
      "Tamaño de y_test: (3349,)\n"
     ]
    }
   ],
   "source": [
    "# Definir las características (X) y la variable objetivo (y)\n",
    "X = datos_codificados3.drop('deposit_encoded', axis=1)  \n",
    "y = datos_codificados3['deposit_encoded']\n",
    "\n",
    "# Dividir en conjuntos de entrenamiento y prueba (70% - 30%)\n",
    "X_train, X_test, y_train, y_test = train_test_split(X, y, test_size=0.3, random_state=42, stratify=y)\n",
    "\n",
    "# Verificar las formas de los conjuntos resultantes\n",
    "print(\"Tamaño de X_train:\", X_train.shape)\n",
    "print(\"Tamaño de X_test:\", X_test.shape)\n",
    "print(\"Tamaño de y_train:\", y_train.shape)\n",
    "print(\"Tamaño de y_test:\", y_test.shape)"
   ]
  },
  {
   "cell_type": "code",
   "execution_count": 31,
   "id": "d040fa87-58ce-4dca-a341-b3a4799cf099",
   "metadata": {},
   "outputs": [],
   "source": [
    "# Guardo los conjuntos de datos creados\n",
    "X_train.to_csv('bank_X_train.csv', index=False)\n",
    "X_test.to_csv('bank_X_test.csv', index=False)\n",
    "y_train.to_csv('bank_y_train.csv', index=False)\n",
    "y_test.to_csv('bank_y_test.csv', index=False)"
   ]
  }
 ],
 "metadata": {
  "kernelspec": {
   "display_name": "Python 3 (ipykernel)",
   "language": "python",
   "name": "python3"
  },
  "language_info": {
   "codemirror_mode": {
    "name": "ipython",
    "version": 3
   },
   "file_extension": ".py",
   "mimetype": "text/x-python",
   "name": "python",
   "nbconvert_exporter": "python",
   "pygments_lexer": "ipython3",
   "version": "3.11.6"
  }
 },
 "nbformat": 4,
 "nbformat_minor": 5
}
