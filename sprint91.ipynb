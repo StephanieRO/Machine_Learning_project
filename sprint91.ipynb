{
 "cells": [
  {
   "cell_type": "markdown",
   "id": "7586fee5-1c51-4ef3-b279-30cda9ac5157",
   "metadata": {},
   "source": [
    "### Pipeline con Transformaciones y Guardado"
   ]
  },
  {
   "cell_type": "code",
   "execution_count": 1,
   "id": "d113134f-21b6-46c8-9549-adde4397901e",
   "metadata": {},
   "outputs": [
    {
     "name": "stderr",
     "output_type": "stream",
     "text": [
      "/var/folders/4f/ts7gk_kd60q4j4k_6hmrs9_r0000gp/T/ipykernel_72931/3773446782.py:1: DeprecationWarning: \n",
      "Pyarrow will become a required dependency of pandas in the next major release of pandas (pandas 3.0),\n",
      "(to allow more performant data types, such as the Arrow string type, and better interoperability with other libraries)\n",
      "but was not found to be installed on your system.\n",
      "If this would cause problems for you,\n",
      "please provide us feedback at https://github.com/pandas-dev/pandas/issues/54466\n",
      "        \n",
      "  import pandas as pd\n"
     ]
    }
   ],
   "source": [
    "import pandas as pd\n",
    "import pickle\n",
    "from sklearn.model_selection import train_test_split\n",
    "from sklearn.compose import ColumnTransformer\n",
    "from sklearn.preprocessing import RobustScaler, OneHotEncoder, FunctionTransformer\n",
    "from sklearn.pipeline import Pipeline\n",
    "from sklearn.cluster import KMeans\n",
    "import numpy as np"
   ]
  },
  {
   "cell_type": "code",
   "execution_count": 2,
   "id": "8213a46b-dafb-40e9-ab7c-901452366702",
   "metadata": {},
   "outputs": [],
   "source": [
    "clean_datos = pd.read_csv('bank_dataset_clean.csv')"
   ]
  },
  {
   "cell_type": "code",
   "execution_count": 3,
   "id": "0e76dedf-ee8c-4784-bac6-14c867818fc9",
   "metadata": {},
   "outputs": [],
   "source": [
    "clean_datos = clean_datos.drop(columns=['month'])"
   ]
  },
  {
   "cell_type": "code",
   "execution_count": 4,
   "id": "58394011-76cf-48ad-a490-76052ef00969",
   "metadata": {},
   "outputs": [
    {
     "name": "stdout",
     "output_type": "stream",
     "text": [
      "<class 'pandas.core.frame.DataFrame'>\n",
      "RangeIndex: 11162 entries, 0 to 11161\n",
      "Data columns (total 8 columns):\n",
      " #   Column     Non-Null Count  Dtype  \n",
      "---  ------     --------------  -----  \n",
      " 0   job        11162 non-null  object \n",
      " 1   marital    11162 non-null  object \n",
      " 2   education  11162 non-null  object \n",
      " 3   default    11162 non-null  object \n",
      " 4   balance    11162 non-null  float64\n",
      " 5   housing    11162 non-null  object \n",
      " 6   loan       11162 non-null  object \n",
      " 7   deposit    11162 non-null  object \n",
      "dtypes: float64(1), object(7)\n",
      "memory usage: 697.8+ KB\n"
     ]
    }
   ],
   "source": [
    "clean_datos.info()"
   ]
  },
  {
   "cell_type": "code",
   "execution_count": 5,
   "id": "ea83b41f-4852-4468-b5af-d603503316c5",
   "metadata": {},
   "outputs": [
    {
     "name": "stdout",
     "output_type": "stream",
     "text": [
      "Tamaño de X_train: (7813, 7)\n",
      "Tamaño de X_test: (3349, 7)\n",
      "Tamaño de y_train: (7813,)\n",
      "Tamaño de y_test: (3349,)\n"
     ]
    }
   ],
   "source": [
    "# Definir las características (X) y la variable objetivo (y)\n",
    "X = clean_datos.drop('deposit', axis=1)  \n",
    "y = clean_datos['deposit']\n",
    "\n",
    "# Dividir en conjuntos de entrenamiento y prueba (70% - 30%)\n",
    "X_train, X_test, y_train, y_test = train_test_split(X, y, test_size=0.3, random_state=42, stratify=y)\n",
    "\n",
    "# Verificar las formas de los conjuntos resultantes\n",
    "print(\"Tamaño de X_train:\", X_train.shape)\n",
    "print(\"Tamaño de X_test:\", X_test.shape)\n",
    "print(\"Tamaño de y_train:\", y_train.shape)\n",
    "print(\"Tamaño de y_test:\", y_test.shape)"
   ]
  },
  {
   "cell_type": "code",
   "execution_count": 6,
   "id": "796cb9ab-4bb5-4104-84b2-d11c0c745153",
   "metadata": {},
   "outputs": [
    {
     "name": "stdout",
     "output_type": "stream",
     "text": [
      "<class 'pandas.core.frame.DataFrame'>\n",
      "Index: 7813 entries, 7524 to 3617\n",
      "Data columns (total 7 columns):\n",
      " #   Column     Non-Null Count  Dtype  \n",
      "---  ------     --------------  -----  \n",
      " 0   job        7813 non-null   object \n",
      " 1   marital    7813 non-null   object \n",
      " 2   education  7813 non-null   object \n",
      " 3   default    7813 non-null   object \n",
      " 4   balance    7813 non-null   float64\n",
      " 5   housing    7813 non-null   object \n",
      " 6   loan       7813 non-null   object \n",
      "dtypes: float64(1), object(6)\n",
      "memory usage: 488.3+ KB\n"
     ]
    }
   ],
   "source": [
    "X_train.info()"
   ]
  },
  {
   "cell_type": "code",
   "execution_count": 7,
   "id": "affe1d05-c103-480f-bf44-f4c979c79e1d",
   "metadata": {},
   "outputs": [
    {
     "name": "stdout",
     "output_type": "stream",
     "text": [
      "     default  default_encoded\n",
      "9487      no                0\n",
      "3221      no                0\n",
      "9097      no                0\n",
      "9743      no                0\n",
      "3617      no                0\n",
      "default            no\n",
      "default_encoded     0\n",
      "Name: 100, dtype: object\n",
      "default            no\n",
      "default_encoded     0\n",
      "Name: 11160, dtype: object\n",
      "     housing  housing_encoded\n",
      "9487      no                0\n",
      "3221      no                0\n",
      "9097     yes                1\n",
      "9743     yes                1\n",
      "3617      no                0\n",
      "housing            yes\n",
      "housing_encoded      1\n",
      "Name: 100, dtype: object\n",
      "housing            no\n",
      "housing_encoded     0\n",
      "Name: 11160, dtype: object\n",
      "     loan  loan_encoded\n",
      "9487   no             0\n",
      "3221   no             0\n",
      "9097   no             0\n",
      "9743  yes             1\n",
      "3617   no             0\n",
      "loan            no\n",
      "loan_encoded     0\n",
      "Name: 100, dtype: object\n",
      "loan            yes\n",
      "loan_encoded      1\n",
      "Name: 11160, dtype: object\n"
     ]
    }
   ],
   "source": [
    "# Codificación de la variable objetivo\n",
    "X_train['default_encoded'] = X_train['default'].map({'yes': 1, 'no': 0})\n",
    "\n",
    "# Verificar los cambios\n",
    "print(X_train[['default', 'default_encoded']].tail())\n",
    "\n",
    "# Imprimir el valor en la fila 0 de la columna 'deposit'\n",
    "print(X_train.loc[100, ['default', 'default_encoded']])\n",
    "print(X_train.loc[11160, ['default', 'default_encoded']])\n",
    "\n",
    "# Codificación de la variable objetivo\n",
    "X_train['housing_encoded'] = X_train['housing'].map({'yes': 1, 'no': 0})\n",
    "\n",
    "# Verificar los cambios\n",
    "print(X_train[['housing', 'housing_encoded']].tail())\n",
    "\n",
    "# Imprimir el valor en la fila 0 de la columna 'deposit'\n",
    "print(X_train.loc[100, ['housing', 'housing_encoded']])\n",
    "print(X_train.loc[11160, ['housing', 'housing_encoded']])\n",
    "\n",
    "# Codificación de la variable objetivo\n",
    "X_train['loan_encoded'] = X_train['loan'].map({'yes': 1, 'no': 0})\n",
    "\n",
    "# Verificar los cambios\n",
    "print(X_train[['loan', 'loan_encoded']].tail())\n",
    "\n",
    "# Imprimir el valor en la fila 0 de la columna 'deposit'\n",
    "print(X_train.loc[100, ['loan', 'loan_encoded']])\n",
    "print(X_train.loc[11160, ['loan', 'loan_encoded']])"
   ]
  },
  {
   "cell_type": "code",
   "execution_count": 8,
   "id": "8d47f6de-17dc-4153-8159-1367e3dce0a2",
   "metadata": {},
   "outputs": [
    {
     "name": "stdout",
     "output_type": "stream",
     "text": [
      "default_encoded\n",
      "0    7695\n",
      "1     118\n",
      "Name: count, dtype: int64\n",
      "housing_encoded\n",
      "0    4115\n",
      "1    3698\n",
      "Name: count, dtype: int64\n",
      "loan_encoded\n",
      "0    6810\n",
      "1    1003\n",
      "Name: count, dtype: int64\n"
     ]
    }
   ],
   "source": [
    "print(X_train['default_encoded'].value_counts())\n",
    "print(X_train['housing_encoded'].value_counts())\n",
    "print(X_train['loan_encoded'].value_counts())"
   ]
  },
  {
   "cell_type": "code",
   "execution_count": 9,
   "id": "59f25926-e654-48ed-95f6-5e8d6fabf4af",
   "metadata": {},
   "outputs": [
    {
     "name": "stdout",
     "output_type": "stream",
     "text": [
      "<class 'pandas.core.frame.DataFrame'>\n",
      "Index: 7813 entries, 7524 to 3617\n",
      "Data columns (total 7 columns):\n",
      " #   Column           Non-Null Count  Dtype  \n",
      "---  ------           --------------  -----  \n",
      " 0   job              7813 non-null   object \n",
      " 1   marital          7813 non-null   object \n",
      " 2   education        7813 non-null   object \n",
      " 3   balance          7813 non-null   float64\n",
      " 4   default_encoded  7813 non-null   int64  \n",
      " 5   housing_encoded  7813 non-null   int64  \n",
      " 6   loan_encoded     7813 non-null   int64  \n",
      "dtypes: float64(1), int64(3), object(3)\n",
      "memory usage: 746.4+ KB\n"
     ]
    }
   ],
   "source": [
    "drop_col = ['default','housing','loan']\n",
    "\n",
    "X_train = X_train.drop(columns=drop_col)\n",
    "X_train.info()"
   ]
  },
  {
   "cell_type": "code",
   "execution_count": 10,
   "id": "15ef2d60-21cf-4287-ba97-a9b16ada7000",
   "metadata": {},
   "outputs": [
    {
     "name": "stdout",
     "output_type": "stream",
     "text": [
      "Escalador y modelo KMeans guardados exitosamente en archivos separados.\n"
     ]
    }
   ],
   "source": [
    "# Columnas categóricas para OneHotEncoder\n",
    "categorical_features = ['job', 'marital', 'education']\n",
    "\n",
    "# Columnas binarias\n",
    "binary_features = ['default_encoded', 'housing_encoded', 'loan_encoded']\n",
    "\n",
    "# Columna numérica a escalar\n",
    "numerical_features = ['balance']\n",
    "\n",
    "# Crear el preprocesador\n",
    "preprocessor = ColumnTransformer(\n",
    "    transformers=[\n",
    "        ('num', RobustScaler(), numerical_features),  # RobustScaler para 'balance'\n",
    "        ('cat', OneHotEncoder(drop='first'), categorical_features),  # OneHotEncoder para categóricas\n",
    "    ],\n",
    "    remainder='passthrough'\n",
    ")\n",
    "\n",
    "# Crear y entrenar el escalador\n",
    "X_train_transformed = preprocessor.fit_transform(X_train)\n",
    "\n",
    "# Entrenar el modelo de clustering\n",
    "kmeans = KMeans(n_clusters=2, random_state=42)\n",
    "kmeans.fit(X_train_transformed)\n",
    "\n",
    "# Guardar el preprocesador en un archivo .pkl\n",
    "with open('preprocessor.pkl', 'wb') as preprocessor_file:\n",
    "    pickle.dump(preprocessor, preprocessor_file)\n",
    "\n",
    "# Guardar el modelo KMeans en un archivo .pkl\n",
    "with open('kmeans_model.pkl', 'wb') as model_file:\n",
    "    pickle.dump(kmeans, model_file)\n",
    "\n",
    "print(\"Escalador y modelo KMeans guardados exitosamente en archivos separados.\")"
   ]
  },
  {
   "cell_type": "code",
   "execution_count": 11,
   "id": "c4b614ee-c23c-46c1-abe0-8c8a7b33c4ae",
   "metadata": {},
   "outputs": [
    {
     "name": "stdout",
     "output_type": "stream",
     "text": [
      "['job_blue-collar', 'job_entrepreneur', 'job_housemaid', 'job_management', 'job_retired', 'job_self-employed', 'job_services', 'job_student', 'job_technician', 'job_unemployed', 'job_unknown', 'marital_married', 'marital_single', 'education_secondary', 'education_tertiary', 'education_unknown', 'default_encoded', 'housing_encoded', 'loan_encoded', 'balance']\n"
     ]
    }
   ],
   "source": [
    "# Obtener los nombres de las columnas de OneHotEncoder\n",
    "ohe_feature_names = preprocessor.named_transformers_['cat'].get_feature_names_out(categorical_features)\n",
    "\n",
    "# Obtener todos los nombres de columnas después de la transformación\n",
    "all_feature_names = list(ohe_feature_names) + binary_features + numerical_features\n",
    "\n",
    "# Ver los nombres de las columnas transformadas\n",
    "print(all_feature_names)"
   ]
  },
  {
   "cell_type": "code",
   "execution_count": null,
   "id": "f32209bd-e8df-48c0-b03e-7c2e9186dee6",
   "metadata": {},
   "outputs": [],
   "source": []
  }
 ],
 "metadata": {
  "kernelspec": {
   "display_name": "Python 3 (ipykernel)",
   "language": "python",
   "name": "python3"
  },
  "language_info": {
   "codemirror_mode": {
    "name": "ipython",
    "version": 3
   },
   "file_extension": ".py",
   "mimetype": "text/x-python",
   "name": "python",
   "nbconvert_exporter": "python",
   "pygments_lexer": "ipython3",
   "version": "3.11.6"
  }
 },
 "nbformat": 4,
 "nbformat_minor": 5
}
